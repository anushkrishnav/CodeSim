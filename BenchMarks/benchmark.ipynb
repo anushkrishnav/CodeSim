{
 "cells": [
  {
   "cell_type": "code",
   "execution_count": 4,
   "metadata": {},
   "outputs": [],
   "source": [
    "import dask \n",
    "import numpy as np\n",
    "import dask.dataframe as dd\n",
    "import pandas as pd\n",
    "import time "
   ]
  },
  {
   "cell_type": "code",
   "execution_count": 5,
   "metadata": {},
   "outputs": [],
   "source": [
    "file = \"../data/val/clone-detection-600k-5fold.parquet\"\n",
    "ddf = dd.read_parquet(\"../data/val/clone-detection-600k-5fold.parquet\") \n",
    "# only 1000 random rows\n",
    "ddf_100 = ddf.sample(frac=0.001)\n",
    "# read only the code1_column\n",
    "ddf_100_code1 = ddf[\"code1\"]\n",
    "# 10k random rows\n",
    "ddf_500 = ddf.sample(frac=0.005)\n",
    "# # read only the code2_column\n",
    "ddf_500_code2 = ddf_500[\"code2\"]"
   ]
  },
  {
   "cell_type": "markdown",
   "metadata": {},
   "source": [
    "# Dask vs Normal Encoding Speed for 1000 and 5000 rows"
   ]
  },
  {
   "cell_type": "markdown",
   "metadata": {},
   "source": [
    "### Dask"
   ]
  },
  {
   "cell_type": "code",
   "execution_count": 6,
   "metadata": {},
   "outputs": [],
   "source": [
    "from sentence_transformers import SentenceTransformer\n",
    "model = SentenceTransformer('annakotarba/sentence-similarity')\n",
    "def encode_code(code):\n",
    "    code = code.to_list()\n",
    "    return model.encode(code)\n"
   ]
  },
  {
   "cell_type": "code",
   "execution_count": 8,
   "metadata": {},
   "outputs": [
    {
     "name": "stderr",
     "output_type": "stream",
     "text": [
      "huggingface/tokenizers: The current process just got forked, after parallelism has already been used. Disabling parallelism to avoid deadlocks...\n",
      "To disable this warning, you can either:\n",
      "\t- Avoid using `tokenizers` before the fork if possible\n",
      "\t- Explicitly set the environment variable TOKENIZERS_PARALLELISM=(true | false)\n"
     ]
    }
   ],
   "source": [
    "# dask\n",
    "start = time.time()\n",
    "embeddings_1 = ddf_100_code1.map_partitions(encode_code).compute(scheduler='processes')\n",
    "print(\"Time taken: \", time.time()-start)"
   ]
  },
  {
   "cell_type": "code",
   "execution_count": 7,
   "metadata": {},
   "outputs": [
    {
     "name": "stderr",
     "output_type": "stream",
     "text": [
      "huggingface/tokenizers: The current process just got forked, after parallelism has already been used. Disabling parallelism to avoid deadlocks...\n",
      "To disable this warning, you can either:\n",
      "\t- Avoid using `tokenizers` before the fork if possible\n",
      "\t- Explicitly set the environment variable TOKENIZERS_PARALLELISM=(true | false)\n"
     ]
    },
    {
     "name": "stdout",
     "output_type": "stream",
     "text": [
      "Time taken:  57.59621000289917\n"
     ]
    }
   ],
   "source": [
    "# dask\n",
    "start = time.time()\n",
    "embeddings_1 = ddf_500_code2.map_partitions(encode_code).compute(scheduler='processes')\n",
    "print(\"Time taken: \", time.time()-start)"
   ]
  },
  {
   "cell_type": "markdown",
   "metadata": {},
   "source": [
    "## Without Dask"
   ]
  },
  {
   "cell_type": "code",
   "execution_count": 43,
   "metadata": {},
   "outputs": [
    {
     "name": "stdout",
     "output_type": "stream",
     "text": [
      "(<dask_expr.expr.Scalar: expr=ReadParquetFSSpec(74e45e2).size() // 7, dtype=int64>, 7)\n"
     ]
    }
   ],
   "source": [
    "file = \"../data/val/clone-detection-600k-5fold.parquet\"\n",
    "ddf = dd.read_parquet(\"../data/val/clone-detection-600k-5fold.parquet\") \n",
    "print(ddf.shape)\n",
    "# only 1000 random rows\n",
    "ddf_100 = ddf.sample(frac=0.001)\n",
    "ddf_100.compute()\n",
    "# read only the code1_column\n",
    "ddf_100_code1 = ddf_100[\"code1\"]\n",
    "ddf_500 = ddf.sample(frac=0.005)\n",
    "ddf_500.compute()\n",
    "# read only the code2_column\n",
    "ddf_500_code2 = ddf_500[\"code2\"]\n"
   ]
  },
  {
   "cell_type": "code",
   "execution_count": 44,
   "metadata": {},
   "outputs": [
    {
     "name": "stderr",
     "output_type": "stream",
     "text": [
      "Batches: 100%|██████████| 43/43 [27:35<00:00, 38.51s/it]\n"
     ]
    },
    {
     "name": "stdout",
     "output_type": "stream",
     "text": [
      "[[-0.12333419 -0.174767   -0.20818347 ...  0.13409105 -0.02637528\n",
      "   0.09043723]\n",
      " [-0.12333419 -0.174767   -0.20818347 ...  0.13409105 -0.02637528\n",
      "   0.09043723]\n",
      " [-0.12333419 -0.174767   -0.20818347 ...  0.13409105 -0.02637528\n",
      "   0.09043723]\n",
      " ...\n",
      " [-0.12333419 -0.174767   -0.20818347 ...  0.13409105 -0.02637528\n",
      "   0.09043723]\n",
      " [-0.12333419 -0.174767   -0.20818347 ...  0.13409105 -0.02637528\n",
      "   0.09043723]\n",
      " [-0.12333419 -0.174767   -0.20818347 ...  0.13409105 -0.02637528\n",
      "   0.09043723]]\n",
      "Time taken:  1659.4923441410065\n"
     ]
    },
    {
     "name": "stderr",
     "output_type": "stream",
     "text": [
      "Batches: 100%|██████████| 211/211 [2:23:21<00:00, 40.76s/it]  \n"
     ]
    },
    {
     "name": "stdout",
     "output_type": "stream",
     "text": [
      "[[-0.12333419 -0.174767   -0.20818347 ...  0.13409105 -0.02637528\n",
      "   0.09043723]\n",
      " [-0.12333419 -0.174767   -0.20818347 ...  0.13409105 -0.02637528\n",
      "   0.09043723]\n",
      " [-0.12333419 -0.174767   -0.20818347 ...  0.13409105 -0.02637528\n",
      "   0.09043723]\n",
      " ...\n",
      " [-0.12333419 -0.174767   -0.20818347 ...  0.13409105 -0.02637528\n",
      "   0.09043723]\n",
      " [-0.12333419 -0.174767   -0.20818347 ...  0.13409105 -0.02637528\n",
      "   0.09043723]\n",
      " [-0.12333419 -0.174767   -0.20818347 ...  0.13409105 -0.02637528\n",
      "   0.09043723]]\n",
      "Time taken:  8607.2845890522\n"
     ]
    }
   ],
   "source": [
    "from sentence_transformers import SentenceTransformer\n",
    "model = SentenceTransformer('annakotarba/sentence-similarity')\n",
    "\n",
    "start = time.time()\n",
    "embeddings = model.encode(ddf_100_code1, show_progress_bar=True)\n",
    "print(embeddings)\n",
    "print(\"Time taken: \", time.time()-start)\n",
    "\n",
    "start = time.time()\n",
    "embeddings = model.encode(ddf_500_code2, show_progress_bar=True)\n",
    "print(embeddings)\n",
    "print(\"Time taken: \", time.time()-start)\n",
    "\n"
   ]
  },
  {
   "cell_type": "code",
   "execution_count": null,
   "metadata": {},
   "outputs": [],
   "source": [
    "model_code2_embeddings = model.encode(ddf_500_code2.to_list())"
   ]
  },
  {
   "cell_type": "code",
   "execution_count": 11,
   "metadata": {},
   "outputs": [
    {
     "name": "stdout",
     "output_type": "stream",
     "text": [
      "0.06683897972106934\n"
     ]
    },
    {
     "name": "stderr",
     "output_type": "stream",
     "text": [
      "Batches: 100%|██████████| 1/1 [00:00<00:00, 24.92it/s]"
     ]
    },
    {
     "name": "stdout",
     "output_type": "stream",
     "text": [
      "0.04278826713562012\n"
     ]
    },
    {
     "name": "stderr",
     "output_type": "stream",
     "text": [
      "\n"
     ]
    }
   ],
   "source": [
    "## Model 1\n",
    "\n",
    "models = {}\n",
    "\n",
    "\n",
    "\n",
    "\n",
    "\n",
    "\n",
    "\n",
    "# plit the code list into chunks\n",
    "\n",
    "\n",
    "# parallelize the encoding\n",
    "\n",
    "embeddings = dask.compute(*embeddings)\n",
    "\n",
    "print(time.time() - start)\n",
    "model = SentenceTransformer('annakotarba/sentence-similarity')\n",
    "start = time.time()\n",
    "embeddings = model.encode(code, show_progress_bar=True)\n",
    "print(time.time() - start)\n",
    "\n",
    "# use dask to parallelize\n",
    "\n",
    "\n",
    "\n",
    "\n",
    "\n",
    "\n",
    "# similarity = cosine_similarity([embeddings[0]], [embeddings[1]])"
   ]
  },
  {
   "cell_type": "code",
   "execution_count": 52,
   "metadata": {},
   "outputs": [
    {
     "data": {
      "text/plain": [
       "tensor([[1.0000, 0.7171, 0.3585,  ..., 0.6446, 0.5378, 0.6475],\n",
       "        [0.7171, 1.0000, 0.3667,  ..., 0.6303, 0.6153, 0.6687],\n",
       "        [0.3585, 0.3667, 1.0000,  ..., 0.4309, 0.6593, 0.3520],\n",
       "        ...,\n",
       "        [0.6446, 0.6303, 0.4309,  ..., 1.0000, 0.5942, 0.7079],\n",
       "        [0.5378, 0.6153, 0.6593,  ..., 0.5942, 1.0000, 0.5126],\n",
       "        [0.6475, 0.6687, 0.3520,  ..., 0.7079, 0.5126, 1.0000]])"
      ]
     },
     "execution_count": 52,
     "metadata": {},
     "output_type": "execute_result"
    }
   ],
   "source": [
    "model.similarity(embeddings, embeddings)\n",
    "# plt heatmap\n"
   ]
  }
 ],
 "metadata": {
  "kernelspec": {
   "display_name": "CodeSim-1gy_qMWa",
   "language": "python",
   "name": "python3"
  },
  "language_info": {
   "codemirror_mode": {
    "name": "ipython",
    "version": 3
   },
   "file_extension": ".py",
   "mimetype": "text/x-python",
   "name": "python",
   "nbconvert_exporter": "python",
   "pygments_lexer": "ipython3",
   "version": "3.11.5"
  }
 },
 "nbformat": 4,
 "nbformat_minor": 2
}
